{
 "cells": [
  {
   "cell_type": "code",
   "execution_count": 10,
   "metadata": {},
   "outputs": [
    {
     "name": "stdout",
     "output_type": "stream",
     "text": [
      "{'predict': 0.0, 'sentiment': 'Negative'}\n"
     ]
    }
   ],
   "source": [
    "import requests\n",
    "\n",
    "url='https://serv-sentiment-158607882845.europe-west4.run.app/predict'\n",
    "payload = {\"texto\": \"Was a cold services\"}\n",
    "resp=requests.post(url, params=payload)\n",
    "if resp:\n",
    "    print(resp.json())"
   ]
  },
  {
   "cell_type": "code",
   "execution_count": 8,
   "metadata": {},
   "outputs": [
    {
     "name": "stdout",
     "output_type": "stream",
     "text": [
      "[\n",
      "    {\n",
      "        \"review\": \"Parking lot is crowded and road construction nearby is making it worse.  Good service\",\n",
      "        \"rating\": \"3 stars\",\n",
      "        \"rating_clean\": 3,\n",
      "        \"sentiment\": 0\n",
      "    },\n",
      "    {\n",
      "        \"review\": \"Staff were arguing amongst themselves whether who does what. Managers were indifferent to employees and with customers. Ordered two Happy Meals and a McFlurry and about 6 customers after I ordered, received their orders before me. We waited around 20 minutes or more. The McFlurry was supposed to be the Stroopwafel and there was hardly any in it, it was 99% vanilla ice cream.\",\n",
      "        \"rating\": \"2 stars\",\n",
      "        \"rating_clean\": 2,\n",
      "        \"sentiment\": 0\n",
      "    }\n",
      "]\n"
     ]
    }
   ],
   "source": [
    "import requests\n",
    "import json\n",
    "\n",
    "url='https://serv-sentiment-158607882845.europe-west4.run.app/show_df_train'\n",
    "payload = {\"n_elements\": 2}\n",
    "resp=requests.post(url, params=payload)\n",
    "if resp:\n",
    "    print(json.dumps(resp.json(), indent=4, ensure_ascii=False))"
   ]
  },
  {
   "cell_type": "code",
   "execution_count": 6,
   "metadata": {},
   "outputs": [
    {
     "name": "stdout",
     "output_type": "stream",
     "text": [
      "[\"['course amazing']\", 'Token:']\n"
     ]
    }
   ],
   "source": [
    "import requests\n",
    "\n",
    "url='https://serv-sentiment-158607882845.europe-west4.run.app/tokenizar_texto'\n",
    "payload={\n",
    "    'use_lema':True,\n",
    "    'use_stop_wd':True,\n",
    "    'texto':\"this course was amazing \"\n",
    "}\n",
    "resp=requests.post(url, json=payload)\n",
    "if resp:\n",
    "    print(resp.json())"
   ]
  },
  {
   "cell_type": "code",
   "execution_count": 16,
   "metadata": {},
   "outputs": [
    {
     "name": "stdout",
     "output_type": "stream",
     "text": [
      "{'sentiment': 'Positive', 'prob_positive': 0.9332582064173255, 'prob_negative': 0.06674179358267451}\n"
     ]
    }
   ],
   "source": [
    "import requests\n",
    "\n",
    "url='https://serv-sentiment-158607882845.europe-west4.run.app/predict_with_probs/'\n",
    "\n",
    "payload={\"texto\":\"this course was amazing\"}\n",
    "\n",
    "resp=requests.post(url, params=payload)\n",
    "if resp:\n",
    "    print(resp.json())\n",
    "else:\n",
    "    print(f\"Error {resp.status_code}: {resp.text}\")    "
   ]
  }
 ],
 "metadata": {
  "kernelspec": {
   "display_name": "base",
   "language": "python",
   "name": "python3"
  },
  "language_info": {
   "codemirror_mode": {
    "name": "ipython",
    "version": 3
   },
   "file_extension": ".py",
   "mimetype": "text/x-python",
   "name": "python",
   "nbconvert_exporter": "python",
   "pygments_lexer": "ipython3",
   "version": "3.11.7"
  }
 },
 "nbformat": 4,
 "nbformat_minor": 2
}
